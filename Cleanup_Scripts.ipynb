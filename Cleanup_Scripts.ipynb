{
 "cells": [
  {
   "cell_type": "code",
   "execution_count": null,
   "metadata": {
    "collapsed": true
   },
   "outputs": [],
   "source": [
    "import config\n",
    "# Clear the google sheet - Used after adding rss articles to pocket for training\n",
    "from oauth2client.service_account import ServiceAccountCredentials\n",
    "import gspread\n",
    "scope = ['https://spreadsheets.google.com/feeds']\n",
    "credentials = ServiceAccountCredentials.from_json_keyfile_name(config.json_credentials, scope)\n",
    "gc = gspread.authorize(credentials)\n",
    "\n",
    "ws = gc.open('NewsFeed')\n",
    "sh = ws.sheet1\n",
    "\n",
    "lenv = len(sh.col_values(1))\n",
    "cell_list = sh.range('A1:F' + str(lenv))\n",
    "for cell in cell_list:\n",
    "    cell.value = ''\n",
    "sh.update_cells(cell_list)"
   ]
  }
 ],
 "metadata": {
  "kernelspec": {
   "display_name": "Python_3",
   "language": "python",
   "name": "py35"
  },
  "language_info": {
   "codemirror_mode": {
    "name": "ipython",
    "version": 3
   },
   "file_extension": ".py",
   "mimetype": "text/x-python",
   "name": "python",
   "nbconvert_exporter": "python",
   "pygments_lexer": "ipython3",
   "version": "3.5.4"
  },
  "toc": {
   "nav_menu": {},
   "number_sections": true,
   "sideBar": true,
   "skip_h1_title": false,
   "toc_cell": false,
   "toc_position": {},
   "toc_section_display": "block",
   "toc_window_display": false
  }
 },
 "nbformat": 4,
 "nbformat_minor": 2
}
