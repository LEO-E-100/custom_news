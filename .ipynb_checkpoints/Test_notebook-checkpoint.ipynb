{
 "cells": [
  {
   "cell_type": "code",
   "execution_count": 1,
   "metadata": {},
   "outputs": [],
   "source": [
    "import pandas as pd\n",
    "from sklearn.feature_extraction.text import TfidfVectorizer\n",
    "from sklearn.svm import LinearSVC\n",
    "import pickle\n",
    "import json\n",
    "import gspread\n",
    "import requests\n",
    "from oauth2client.service_account import ServiceAccountCredentials\n",
    "from bs4 import BeautifulSoup"
   ]
  },
  {
   "cell_type": "code",
   "execution_count": 2,
   "metadata": {},
   "outputs": [],
   "source": [
    "pd.set_option('display.max_colwidth', 250)"
   ]
  },
  {
   "cell_type": "code",
   "execution_count": 3,
   "metadata": {},
   "outputs": [],
   "source": [
    "vect = pickle.load(open(r'news_vect_pickle.pkl', 'rb'))\n",
    "model = pickle.load(open(r'news_model_pickle.pkl', 'rb'))"
   ]
  },
  {
   "cell_type": "code",
   "execution_count": 4,
   "metadata": {},
   "outputs": [],
   "source": [
    "scope = ['https://spreadsheets.google.com/feeds']\n",
    "credentials = ServiceAccountCredentials.from_json_keyfile_name('Custom News Feed-d7876b12a476.json', scope)\n",
    "gc = gspread.authorize(credentials)\n"
   ]
  },
  {
   "cell_type": "code",
   "execution_count": 5,
   "metadata": {},
   "outputs": [],
   "source": [
    "ws = gc.open('NewsFeed')\n",
    "sh = ws.sheet1\n",
    "zd = list(zip(sh.col_values(2), sh.col_values(3), sh.col_values(4)))\n",
    "zf = pd.DataFrame(zd, columns=['title', 'urls', 'html'])\n",
    "zf.replace('', pd.np.nan, inplace=True)\n",
    "zf.dropna(inplace=True)\n"
   ]
  },
  {
   "cell_type": "code",
   "execution_count": 6,
   "metadata": {},
   "outputs": [],
   "source": [
    "def get_text(x):\n",
    "    soup = BeautifulSoup(x, 'lxml')\n",
    "    text = soup.get_text()\n",
    "    return text"
   ]
  },
  {
   "cell_type": "code",
   "execution_count": 7,
   "metadata": {},
   "outputs": [],
   "source": [
    "zf.loc[:, 'text'] = zf['html'].map(get_text)"
   ]
  },
  {
   "cell_type": "code",
   "execution_count": 8,
   "metadata": {},
   "outputs": [],
   "source": [
    "tv = vect.transform(zf['text'])\n",
    "res = model.predict(tv)"
   ]
  },
  {
   "cell_type": "code",
   "execution_count": 9,
   "metadata": {},
   "outputs": [],
   "source": [
    "rf = pd.DataFrame(res, columns=['wanted'])\n",
    "rez = pd.merge(rf, zf, left_index=True, right_index=True)"
   ]
  },
  {
   "cell_type": "code",
   "execution_count": 16,
   "metadata": {},
   "outputs": [],
   "source": [
    "mask = rez['wanted'] == 'y'\n",
    "yes_df = rez.loc[mask]\n",
    "short_df = yes_df.head()"
   ]
  },
  {
   "cell_type": "code",
   "execution_count": 17,
   "metadata": {},
   "outputs": [],
   "source": [
    "news_str = ''\n",
    "for t, u in zip(short_df['title'], short_df['urls']):\n",
    "    title = t\n",
    "    url = u\n",
    "    news_str = news_str + str(title) + ' ' + str(url) + '\\n'"
   ]
  },
  {
   "cell_type": "code",
   "execution_count": 19,
   "metadata": {},
   "outputs": [],
   "source": [
    "payload = {'value1' : news_str}\n",
    "r = requests.post('https://maker.ifttt.com/trigger/news_event/with/key/2ITUA8L7j8IF1m3wAfQnA', data=payload)"
   ]
  },
  {
   "cell_type": "code",
   "execution_count": 14,
   "metadata": {},
   "outputs": [
    {
     "data": {
      "text/plain": [
       "\"Congratulations! You've fired the news_event event\""
      ]
     },
     "execution_count": 14,
     "metadata": {},
     "output_type": "execute_result"
    }
   ],
   "source": [
    "r.text"
   ]
  },
  {
   "cell_type": "code",
   "execution_count": 18,
   "metadata": {},
   "outputs": [
    {
     "name": "stdout",
     "output_type": "stream",
     "text": [
      "Syrian opposition calls on Trump and EU to put pressure on Russia and Iran http://www.reuters.com/article/us-mideast-crisis-syria-opposition/syrian-opposition-calls-on-trump-and-eu-to-put-pressure-on-russia-and-iran-idUSKBN1F51LO?feedType=RSS&feedName=worldNews\n",
      "Swiss campaign to curb immigration from EU gets go-ahead http://www.reuters.com/article/us-swiss-eu/swiss-campaign-to-curb-immigration-from-eu-gets-go-ahead-idUSKBN1F51UN?feedType=RSS&feedName=worldNews\n",
      "Japan issues false alarm over missile launch, days after Hawaii alert gaffe http://www.reuters.com/article/us-northkorea-missiles-japan/japan-issues-false-alarm-over-missile-launch-days-after-hawaii-alert-gaffe-idUSKBN1F514S?feedType=RSS&feedName=worldNews\n",
      "Moscow's 2017 December was its 'darkest' on record http://www.bbc.co.uk/news/world-europe-42701715\n",
      "Jordan, Greece and Cyprus say more support needed to states on refugee frontline http://www.reuters.com/article/us-cyprus-greece-jordan/jordan-greece-and-cyprus-say-more-support-needed-to-states-on-refugee-frontline-idUSKBN1F51V7?feedType=RSS&feedName=worldNews\n",
      "\n"
     ]
    }
   ],
   "source": [
    "print(news_str)"
   ]
  },
  {
   "cell_type": "code",
   "execution_count": null,
   "metadata": {},
   "outputs": [],
   "source": [
    "# lenv = len(sh.col_values(1))\n",
    "# cell_list = sh.range('A1:F' + str(lenv))\n",
    "# for cell in cell_list:\n",
    "#     cell.value = ''\n",
    "# sh.update_cells(cell_list)"
   ]
  }
 ],
 "metadata": {
  "kernelspec": {
   "display_name": "Python_3",
   "language": "python",
   "name": "py35"
  },
  "language_info": {
   "codemirror_mode": {
    "name": "ipython",
    "version": 3
   },
   "file_extension": ".py",
   "mimetype": "text/x-python",
   "name": "python",
   "nbconvert_exporter": "python",
   "pygments_lexer": "ipython3",
   "version": "3.5.4"
  },
  "toc": {
   "nav_menu": {},
   "number_sections": true,
   "sideBar": true,
   "skip_h1_title": false,
   "toc_cell": false,
   "toc_position": {},
   "toc_section_display": "block",
   "toc_window_display": false
  }
 },
 "nbformat": 4,
 "nbformat_minor": 2
}
