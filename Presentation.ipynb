{
 "cells": [
  {
   "cell_type": "markdown",
   "metadata": {},
   "source": [
    "# Custom News Project Details\n",
    "\n",
    "The overall aim of this project was\n",
    "\n",
    "> To produce an app that would learn from prior reading habits of users and return a customised news feed based on that\n",
    "\n",
    "This was achieved in a process of gathering a supervised learning dataset, applying a classifier to it and then applying this classifier to a set of regularly updated articles and sending the results of this classification to the end user.\n",
    "\n",
    "1. Use the [Pocket](https://getpocket.com) API to get a list of articles with pre assigned tags of `y` or `n` for if the user found it interesting or not. The API is used to turn the links into a dataframe.\n",
    "\n",
    "2. Use the [Embed.rocks](https://embed.rocks/) API to gather the raw HTML from the URLs provided and `BeautifulSoup`. This creates a dataframe with four columns, `URL`, `Wanted`, `HTML` and `text`.\n",
    "\n",
    "3. Vectorize and Classify the text in this `text` column. This trains a model to predict whether future articles will fall into the 'interested' or 'not interested' category.\n",
    "\n",
    "4. Use IFTTT to pass articles from RSS feeds into a Google Sheet. Use the `gspread` library to pass data from Google Sheet to a pandas dataframe. Run the pickled model on this dataframe to make predictions.\n",
    "\n",
    "5. Use IFTTT to send an email with 5 chosen articles linked on. At the same time a flask app will do the same and reveal the 5 chosen articles."
   ]
  },
  {
   "cell_type": "code",
   "execution_count": null,
   "metadata": {
    "collapsed": true
   },
   "outputs": [],
   "source": []
  }
 ],
 "metadata": {
  "kernelspec": {
   "display_name": "Python_3",
   "language": "python",
   "name": "py35"
  },
  "language_info": {
   "codemirror_mode": {
    "name": "ipython",
    "version": 3
   },
   "file_extension": ".py",
   "mimetype": "text/x-python",
   "name": "python",
   "nbconvert_exporter": "python",
   "pygments_lexer": "ipython3",
   "version": "3.5.4"
  },
  "toc": {
   "nav_menu": {},
   "number_sections": true,
   "sideBar": true,
   "skip_h1_title": false,
   "toc_cell": false,
   "toc_position": {},
   "toc_section_display": "block",
   "toc_window_display": false
  }
 },
 "nbformat": 4,
 "nbformat_minor": 2
}
